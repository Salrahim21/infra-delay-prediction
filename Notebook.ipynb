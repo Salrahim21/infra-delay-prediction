{
 "cells": [
  {
   "cell_type": "code",
   "execution_count": 1,
   "id": "e47cef23",
   "metadata": {},
   "outputs": [
    {
     "name": "stderr",
     "output_type": "stream",
     "text": [
      "WARNING: Ignoring invalid distribution -atplotlib (c:\\users\\admin\\anaconda3\\envs\\learn-env\\lib\\site-packages)\n"
     ]
    },
    {
     "name": "stdout",
     "output_type": "stream",
     "text": [
      "Requirement already satisfied: xgboost in c:\\users\\admin\\anaconda3\\envs\\learn-env\\lib\\site-packages (2.1.4)\n",
      "Requirement already satisfied: numpy in c:\\users\\admin\\anaconda3\\envs\\learn-env\\lib\\site-packages (from xgboost) (1.23.0)\n",
      "Requirement already satisfied: scipy in c:\\users\\admin\\anaconda3\\envs\\learn-env\\lib\\site-packages (from xgboost) (1.10.1)\n"
     ]
    },
    {
     "name": "stderr",
     "output_type": "stream",
     "text": [
      "WARNING: Ignoring invalid distribution -atplotlib (c:\\users\\admin\\anaconda3\\envs\\learn-env\\lib\\site-packages)\n",
      "WARNING: Ignoring invalid distribution -atplotlib (c:\\users\\admin\\anaconda3\\envs\\learn-env\\lib\\site-packages)\n"
     ]
    }
   ],
   "source": [
    "import pandas as pd \n",
    "import matplotlib.pyplot as plt\n",
    "import seaborn as sns\n",
    "\n",
    "\n",
    "from sklearn.model_selection import train_test_split\n",
    "from sklearn.preprocessing import LabelEncoder\n",
    "from sklearn.ensemble import RandomForestRegressor\n",
    "from sklearn.metrics import mean_absolute_error, mean_squared_error, r2_score\n",
    "!pip install --upgrade xgboost\n",
    "\n",
    "\n",
    "\n",
    "\n"
   ]
  },
  {
   "cell_type": "code",
   "execution_count": 2,
   "id": "940d8c18",
   "metadata": {},
   "outputs": [],
   "source": [
    "df=pd.read_csv(\"Data/buildings.csv\")"
   ]
  },
  {
   "cell_type": "code",
   "execution_count": 3,
   "id": "c229d86c",
   "metadata": {},
   "outputs": [],
   "source": [
    "def explore_dataframe(df, name=\"DataFrame\"): #user defined function to get the shape,info and description of the dataset\n",
    "    print(f\"\\n===== {name} Overview =====\")\n",
    "    \n",
    "    print(\"\\nShape:\")\n",
    "    print(df.shape)\n",
    "    \n",
    "    print(\"\\nInfo:\")\n",
    "    print(\"-\" * 40)\n",
    "    df.info()\n",
    "    \n",
    "    print(\"\\nDescription:\")\n",
    "    print(\"-\" * 40)\n",
    "    print(df.describe(include='all'))"
   ]
  },
  {
   "cell_type": "code",
   "execution_count": 4,
   "id": "94f93e1d",
   "metadata": {},
   "outputs": [
    {
     "name": "stdout",
     "output_type": "stream",
     "text": [
      "\n",
      "===== Buildings Overview =====\n",
      "\n",
      "Shape:\n",
      "(8165, 11)\n",
      "\n",
      "Info:\n",
      "----------------------------------------\n",
      "<class 'pandas.core.frame.DataFrame'>\n",
      "RangeIndex: 8165 entries, 0 to 8164\n",
      "Data columns (total 11 columns):\n",
      " #   Column           Non-Null Count  Dtype  \n",
      "---  ------           --------------  -----  \n",
      " 0   Rank             8165 non-null   int64  \n",
      " 1   Name             8165 non-null   object \n",
      " 2   City             8165 non-null   object \n",
      " 3   Country          8165 non-null   object \n",
      " 4   Completion Year  7989 non-null   float64\n",
      " 5   Height (m)       8165 non-null   int64  \n",
      " 6   Floors           7960 non-null   float64\n",
      " 7   Material Used    5609 non-null   object \n",
      " 8   Function         8099 non-null   object \n",
      " 9   City Lat         8158 non-null   float64\n",
      " 10  City Lon         8158 non-null   float64\n",
      "dtypes: float64(4), int64(2), object(5)\n",
      "memory usage: 701.8+ KB\n",
      "\n",
      "Description:\n",
      "----------------------------------------\n",
      "               Rank        Name           City        Country  \\\n",
      "count   8165.000000        8165           8165           8165   \n",
      "unique          NaN        7960            792            168   \n",
      "top             NaN  City Tower  New York City  United States   \n",
      "freq            NaN           6            259            592   \n",
      "mean    4083.000000         NaN            NaN            NaN   \n",
      "std     2357.176807         NaN            NaN            NaN   \n",
      "min        1.000000         NaN            NaN            NaN   \n",
      "25%     2042.000000         NaN            NaN            NaN   \n",
      "50%     4083.000000         NaN            NaN            NaN   \n",
      "75%     6124.000000         NaN            NaN            NaN   \n",
      "max     8165.000000         NaN            NaN            NaN   \n",
      "\n",
      "        Completion Year   Height (m)       Floors Material Used Function  \\\n",
      "count       7989.000000  8165.000000  7960.000000          5609     8099   \n",
      "unique              NaN          NaN          NaN            23       98   \n",
      "top                 NaN          NaN          NaN  All-Concrete   Office   \n",
      "freq                NaN          NaN          NaN          4154     3146   \n",
      "mean        1989.549506   140.012125    35.696608           NaN      NaN   \n",
      "std           57.370705    67.026467    15.662929           NaN      NaN   \n",
      "min         1137.000000    22.000000     1.000000           NaN      NaN   \n",
      "25%         1980.000000    91.000000    24.000000           NaN      NaN   \n",
      "50%         2004.000000   127.000000    33.000000           NaN      NaN   \n",
      "75%         2014.000000   174.000000    45.000000           NaN      NaN   \n",
      "max         2025.000000   828.000000   163.000000           NaN      NaN   \n",
      "\n",
      "           City Lat     City Lon  \n",
      "count   8158.000000  8158.000000  \n",
      "unique          NaN          NaN  \n",
      "top             NaN          NaN  \n",
      "freq            NaN          NaN  \n",
      "mean      23.036912    30.172504  \n",
      "std       27.353724    77.588995  \n",
      "min      -43.530955  -171.763095  \n",
      "25%        8.971449   -43.209373  \n",
      "50%       31.231271    29.052495  \n",
      "75%       43.653482   103.851907  \n",
      "max       69.651635   178.442166  \n"
     ]
    }
   ],
   "source": [
    "explore_dataframe(df, name=\"Buildings\")"
   ]
  },
  {
   "cell_type": "code",
   "execution_count": 5,
   "id": "c7da8477",
   "metadata": {},
   "outputs": [
    {
     "data": {
      "text/html": [
       "<div>\n",
       "<style scoped>\n",
       "    .dataframe tbody tr th:only-of-type {\n",
       "        vertical-align: middle;\n",
       "    }\n",
       "\n",
       "    .dataframe tbody tr th {\n",
       "        vertical-align: top;\n",
       "    }\n",
       "\n",
       "    .dataframe thead th {\n",
       "        text-align: right;\n",
       "    }\n",
       "</style>\n",
       "<table border=\"1\" class=\"dataframe\">\n",
       "  <thead>\n",
       "    <tr style=\"text-align: right;\">\n",
       "      <th></th>\n",
       "      <th>Rank</th>\n",
       "      <th>Name</th>\n",
       "      <th>City</th>\n",
       "      <th>Country</th>\n",
       "      <th>Completion Year</th>\n",
       "      <th>Height (m)</th>\n",
       "      <th>Floors</th>\n",
       "      <th>Material Used</th>\n",
       "      <th>Function</th>\n",
       "      <th>City Lat</th>\n",
       "      <th>City Lon</th>\n",
       "    </tr>\n",
       "  </thead>\n",
       "  <tbody>\n",
       "    <tr>\n",
       "      <th>0</th>\n",
       "      <td>1</td>\n",
       "      <td>Burj Khalifa</td>\n",
       "      <td>Dubai</td>\n",
       "      <td>United Arab Emirates</td>\n",
       "      <td>2010.0</td>\n",
       "      <td>828</td>\n",
       "      <td>163.0</td>\n",
       "      <td>Steel Over Concrete</td>\n",
       "      <td>Office / Residential / Hotel</td>\n",
       "      <td>25.074282</td>\n",
       "      <td>55.188539</td>\n",
       "    </tr>\n",
       "    <tr>\n",
       "      <th>1</th>\n",
       "      <td>2</td>\n",
       "      <td>Merdeka 118</td>\n",
       "      <td>Kuala Lumpur</td>\n",
       "      <td>Malaysia</td>\n",
       "      <td>2023.0</td>\n",
       "      <td>679</td>\n",
       "      <td>118.0</td>\n",
       "      <td>Concrete-Steel Composite</td>\n",
       "      <td>Hotel / Serviced Apartments / Office</td>\n",
       "      <td>3.152659</td>\n",
       "      <td>101.702220</td>\n",
       "    </tr>\n",
       "    <tr>\n",
       "      <th>2</th>\n",
       "      <td>3</td>\n",
       "      <td>Shanghai Tower</td>\n",
       "      <td>Shanghai</td>\n",
       "      <td>China</td>\n",
       "      <td>2015.0</td>\n",
       "      <td>632</td>\n",
       "      <td>128.0</td>\n",
       "      <td>Concrete-Steel Composite</td>\n",
       "      <td>Hotel / Office</td>\n",
       "      <td>31.231271</td>\n",
       "      <td>121.470015</td>\n",
       "    </tr>\n",
       "    <tr>\n",
       "      <th>3</th>\n",
       "      <td>4</td>\n",
       "      <td>Makkah Royal Clock Tower</td>\n",
       "      <td>Mecca</td>\n",
       "      <td>Saudi Arabia</td>\n",
       "      <td>2012.0</td>\n",
       "      <td>601</td>\n",
       "      <td>120.0</td>\n",
       "      <td>Steel Over Concrete</td>\n",
       "      <td>Serviced Apartments / Hotel / Retail</td>\n",
       "      <td>21.420847</td>\n",
       "      <td>39.826869</td>\n",
       "    </tr>\n",
       "    <tr>\n",
       "      <th>4</th>\n",
       "      <td>5</td>\n",
       "      <td>Ping An Finance Center</td>\n",
       "      <td>Shenzhen</td>\n",
       "      <td>China</td>\n",
       "      <td>2017.0</td>\n",
       "      <td>599</td>\n",
       "      <td>115.0</td>\n",
       "      <td>Concrete-Steel Composite</td>\n",
       "      <td>Office</td>\n",
       "      <td>22.544574</td>\n",
       "      <td>114.054543</td>\n",
       "    </tr>\n",
       "  </tbody>\n",
       "</table>\n",
       "</div>"
      ],
      "text/plain": [
       "   Rank                      Name          City               Country  \\\n",
       "0     1              Burj Khalifa         Dubai  United Arab Emirates   \n",
       "1     2               Merdeka 118  Kuala Lumpur              Malaysia   \n",
       "2     3            Shanghai Tower      Shanghai                 China   \n",
       "3     4  Makkah Royal Clock Tower         Mecca          Saudi Arabia   \n",
       "4     5    Ping An Finance Center      Shenzhen                 China   \n",
       "\n",
       "   Completion Year  Height (m)  Floors             Material Used  \\\n",
       "0           2010.0         828   163.0       Steel Over Concrete   \n",
       "1           2023.0         679   118.0  Concrete-Steel Composite   \n",
       "2           2015.0         632   128.0  Concrete-Steel Composite   \n",
       "3           2012.0         601   120.0       Steel Over Concrete   \n",
       "4           2017.0         599   115.0  Concrete-Steel Composite   \n",
       "\n",
       "                               Function   City Lat    City Lon  \n",
       "0          Office / Residential / Hotel  25.074282   55.188539  \n",
       "1  Hotel / Serviced Apartments / Office   3.152659  101.702220  \n",
       "2                        Hotel / Office  31.231271  121.470015  \n",
       "3  Serviced Apartments / Hotel / Retail  21.420847   39.826869  \n",
       "4                                Office  22.544574  114.054543  "
      ]
     },
     "execution_count": 5,
     "metadata": {},
     "output_type": "execute_result"
    }
   ],
   "source": [
    "df.head()"
   ]
  },
  {
   "cell_type": "code",
   "execution_count": 6,
   "id": "42b95b2f",
   "metadata": {},
   "outputs": [
    {
     "name": "stdout",
     "output_type": "stream",
     "text": [
      "Material Used      31.304348\n",
      "Floors              2.510716\n",
      "Completion Year     2.155542\n",
      "Function            0.808328\n",
      "City Lat            0.085732\n",
      "City Lon            0.085732\n",
      "Rank                0.000000\n",
      "Name                0.000000\n",
      "City                0.000000\n",
      "Country             0.000000\n",
      "Height (m)          0.000000\n",
      "dtype: float64\n"
     ]
    }
   ],
   "source": [
    "missing_percentage=(df.isnull().sum()/len(df))*100\n",
    "\n",
    "print(missing_percentage.sort_values(ascending=False))"
   ]
  },
  {
   "cell_type": "code",
   "execution_count": 7,
   "id": "d1103e22",
   "metadata": {},
   "outputs": [],
   "source": [
    "\n",
    "df.columns = df.columns.str.lower().str.replace(' ', '_')\n"
   ]
  },
  {
   "cell_type": "code",
   "execution_count": 8,
   "id": "2a2109ab",
   "metadata": {},
   "outputs": [],
   "source": [
    "def estimate_duration(row):\n",
    "    material = str(row['material_used']).lower()\n",
    "    if 'steel' in material:\n",
    "        return row['floors'] / 3.5\n",
    "    elif 'concrete' in material:\n",
    "        return row['floors'] / 1.8\n",
    "    else:\n",
    "        return row['floors'] / 2.5  # generic estimate\n",
    "\n",
    "# Apply function\n",
    "df['estimated_duration_months'] = df.apply(estimate_duration, axis=1)\n"
   ]
  },
  {
   "cell_type": "code",
   "execution_count": 9,
   "id": "c0ba329d",
   "metadata": {},
   "outputs": [],
   "source": [
    "# Fill categorical with 'Unknown'\n",
    "df['material_used'] = df['material_used'].fillna('Unknown')\n",
    "df['function'] = df['function'].fillna('Unknown')\n",
    "\n",
    "# Impute numeric with median\n",
    "df['floors'] = df['floors'].fillna(df['floors'].median())\n",
    "df['completion_year'] = df['completion_year'].fillna(df['completion_year'].median())\n",
    "\n",
    "# Option A: Drop rows where estimated_duration_months is missing\n",
    "df = df.dropna(subset=['estimated_duration_months'])\n",
    "\n",
    "# Optionally fill city_lat/lon\n",
    "df['city_lat'] = df['city_lat'].fillna(method='ffill')\n",
    "df['city_lon'] = df['city_lon'].fillna(method='ffill')\n"
   ]
  },
  {
   "cell_type": "code",
   "execution_count": 10,
   "id": "b6a494fc",
   "metadata": {},
   "outputs": [],
   "source": [
    "from sklearn.preprocessing import LabelEncoder\n",
    "\n",
    "for col in df.select_dtypes(include='object'):\n",
    "    df[col] = LabelEncoder().fit_transform(df[col].astype(str))\n"
   ]
  },
  {
   "cell_type": "code",
   "execution_count": 11,
   "id": "9ae4f90c",
   "metadata": {},
   "outputs": [],
   "source": [
    "\n",
    "features = ['height_(m)', 'floors', 'material_used', 'function', 'country']\n",
    "target = 'estimated_duration_months'"
   ]
  },
  {
   "cell_type": "code",
   "execution_count": 12,
   "id": "c164860b",
   "metadata": {},
   "outputs": [
    {
     "name": "stdout",
     "output_type": "stream",
     "text": [
      "📊 Model Evaluation:\n",
      "MAE : 0.061310181861706975\n",
      "RMSE: 0.42287147431482114\n",
      "R² Score: 0.9977210084196476\n"
     ]
    },
    {
     "data": {
      "image/png": "[encoded data removed]",
      "text/plain": [
       "<Figure size 432x288 with 1 Axes>"
      ]
     },
     "metadata": {
      "needs_background": "light"
     },
     "output_type": "display_data"
    }
   ],
   "source": [
    "X = df[features]\n",
    "y = df[target]\n",
    "\n",
    "X_train, X_test, y_train, y_test = train_test_split(X, y, test_size=0.2, random_state=42)\n",
    "\n",
    "# Step 5: Train model\n",
    "model = RandomForestRegressor(random_state=42)\n",
    "model.fit(X_train, y_train)\n",
    "\n",
    "# Step 6: Predict & evaluate\n",
    "y_pred = model.predict(X_test)\n",
    "\n",
    "print(\"📊 Model Evaluation:\")\n",
    "print(\"MAE :\", mean_absolute_error(y_test, y_pred))\n",
    "print(\"RMSE:\", mean_squared_error(y_test, y_pred, squared=False))\n",
    "print(\"R² Score:\", r2_score(y_test, y_pred))\n",
    "\n",
    "# Step 7: Feature importance\n",
    "importance = model.feature_importances_\n",
    "feat_importance = pd.Series(importance, index=features).sort_values(ascending=False)\n",
    "\n",
    "sns.barplot(x=feat_importance.values, y=feat_importance.index)\n",
    "plt.title(\"Feature Importance in Delay Prediction\")\n",
    "plt.xlabel(\"Importance Score\")\n",
    "plt.show()"
   ]
  },
  {
   "cell_type": "code",
   "execution_count": 13,
   "id": "64efe553",
   "metadata": {},
   "outputs": [
    {
     "data": {
      "image/png": "[encoded data removed]",
      "text/plain": [
       "<Figure size 576x360 with 1 Axes>"
      ]
     },
     "metadata": {
      "needs_background": "light"
     },
     "output_type": "display_data"
    }
   ],
   "source": [
    "import matplotlib.pyplot as plt\n",
    "import seaborn as sns\n",
    "\n",
    "residuals = y_test - y_pred\n",
    "\n",
    "plt.figure(figsize=(8, 5))\n",
    "sns.scatterplot(x=y_pred, y=residuals)\n",
    "plt.axhline(0, color='red', linestyle='--')\n",
    "plt.xlabel(\"Predicted Duration (months)\")\n",
    "plt.ylabel(\"Residuals\")\n",
    "plt.title(\"Residual Plot\")\n",
    "plt.show()\n"
   ]
  },
  {
   "cell_type": "code",
   "execution_count": 14,
   "id": "2056b6f7",
   "metadata": {},
   "outputs": [
    {
     "name": "stdout",
     "output_type": "stream",
     "text": [
      "Cross-Validated R² Scores: [0.76510138 0.99331348 0.99735076 0.99670635 0.94686044]\n",
      "Average R²: 0.9398664798712982\n"
     ]
    }
   ],
   "source": [
    "from sklearn.model_selection import cross_val_score\n",
    "\n",
    "scores = cross_val_score(model, X, y, cv=5, scoring='r2')\n",
    "print(\"Cross-Validated R² Scores:\", scores)\n",
    "print(\"Average R²:\", scores.mean())\n"
   ]
  },
  {
   "cell_type": "code",
   "execution_count": 15,
   "id": "c6841969",
   "metadata": {},
   "outputs": [
    {
     "name": "stdout",
     "output_type": "stream",
     "text": [
      "🔎 Random Forest\n",
      " MAE : 0.061310181861706975\n",
      " RMSE: 0.42287147431482114\n",
      " R² Score: 0.9977210084196476\n",
      "------------------------------\n",
      "🔎 Linear Regression\n",
      " MAE : 2.3942850221439986\n",
      " RMSE: 3.4031403379996608\n",
      " R² Score: 0.8524002375422649\n",
      "------------------------------\n",
      "🔎 XGBoost\n",
      " MAE : 0.04472395050175763\n",
      " RMSE: 0.34656253358691164\n",
      " R² Score: 0.9984693032476631\n",
      "------------------------------\n"
     ]
    }
   ],
   "source": [
    "from sklearn.linear_model import LinearRegression\n",
    "from xgboost import XGBRegressor\n",
    "\n",
    "# Linear Regression\n",
    "lr = LinearRegression()\n",
    "lr.fit(X_train, y_train)\n",
    "lr_pred = lr.predict(X_test)\n",
    "\n",
    "# XGBoost\n",
    "xgb = XGBRegressor(random_state=42)\n",
    "xgb.fit(X_train, y_train)\n",
    "xgb_pred = xgb.predict(X_test)\n",
    "\n",
    "# Compare all\n",
    "def evaluate_model(name, true, pred):\n",
    "    print(f\"🔎 {name}\")\n",
    "    print(\" MAE :\", mean_absolute_error(true, pred))\n",
    "    print(\" RMSE:\", mean_squared_error(true, pred, squared=False))\n",
    "    print(\" R² Score:\", r2_score(true, pred))\n",
    "    print(\"-\" * 30)\n",
    "\n",
    "evaluate_model(\"Random Forest\", y_test, y_pred)\n",
    "evaluate_model(\"Linear Regression\", y_test, lr_pred)\n",
    "evaluate_model(\"XGBoost\", y_test, xgb_pred)\n"
   ]
  },
  {
   "cell_type": "code",
   "execution_count": 16,
   "id": "e9b3a811",
   "metadata": {},
   "outputs": [
    {
     "name": "stderr",
     "output_type": "stream",
     "text": [
      "<ipython-input-16-05a7b15e5a2a>:37: UserWarning: Glyph 128201 (\\N{CHART WITH DOWNWARDS TREND}) missing from current font.\n",
      "  plt.tight_layout()\n",
      "<ipython-input-16-05a7b15e5a2a>:37: UserWarning: Glyph 128200 (\\N{CHART WITH UPWARDS TREND}) missing from current font.\n",
      "  plt.tight_layout()\n",
      "<ipython-input-16-05a7b15e5a2a>:37: UserWarning: Glyph 128270 (\\N{RIGHT-POINTING MAGNIFYING GLASS}) missing from current font.\n",
      "  plt.tight_layout()\n",
      "c:\\Users\\ADMIN\\anaconda3\\envs\\learn-env\\lib\\site-packages\\IPython\\core\\pylabtools.py:132: UserWarning: Glyph 128201 (\\N{CHART WITH DOWNWARDS TREND}) missing from current font.\n",
      "  fig.canvas.print_figure(bytes_io, **kw)\n",
      "c:\\Users\\ADMIN\\anaconda3\\envs\\learn-env\\lib\\site-packages\\IPython\\core\\pylabtools.py:132: UserWarning: Glyph 128200 (\\N{CHART WITH UPWARDS TREND}) missing from current font.\n",
      "  fig.canvas.print_figure(bytes_io, **kw)\n",
      "c:\\Users\\ADMIN\\anaconda3\\envs\\learn-env\\lib\\site-packages\\IPython\\core\\pylabtools.py:132: UserWarning: Glyph 128270 (\\N{RIGHT-POINTING MAGNIFYING GLASS}) missing from current font.\n",
      "  fig.canvas.print_figure(bytes_io, **kw)\n"
     ]
    },
    {
     "data": {
      "image/png": "[encoded data removed]",
      "text/plain": [
       "<Figure size 1296x360 with 3 Axes>"
      ]
     },
     "metadata": {
      "needs_background": "light"
     },
     "output_type": "display_data"
    }
   ],
   "source": [
    "import matplotlib.pyplot as plt\n",
    "\n",
    "# Define performance metrics for each model\n",
    "models = ['Random Forest', 'Linear Regression', 'XGBoost']\n",
    "\n",
    "mae_scores = [0.0613, 2.3943, 0.0447]\n",
    "rmse_scores = [0.4229, 3.4031, 0.3466]\n",
    "r2_scores = [0.9977, 0.8524, 0.9985]\n",
    "\n",
    "# Set up the figure and subplots\n",
    "fig, axes = plt.subplots(1, 3, figsize=(18, 5))\n",
    "\n",
    "# MAE plot\n",
    "axes[0].bar(models, mae_scores, color='skyblue')\n",
    "axes[0].set_title('📉 Mean Absolute Error (MAE)')\n",
    "axes[0].set_ylabel('Error (Lower is Better)')\n",
    "axes[0].set_ylim(0, max(mae_scores) + 0.5)\n",
    "\n",
    "# RMSE plot\n",
    "axes[1].bar(models, rmse_scores, color='salmon')\n",
    "axes[1].set_title('📉 Root Mean Squared Error (RMSE)')\n",
    "axes[1].set_ylabel('Error (Lower is Better)')\n",
    "axes[1].set_ylim(0, max(rmse_scores) + 0.5)\n",
    "\n",
    "# R² Score plot\n",
    "axes[2].bar(models, r2_scores, color='lightgreen')\n",
    "axes[2].set_title('📈 R² Score')\n",
    "axes[2].set_ylabel('Score (Higher is Better)')\n",
    "axes[2].set_ylim(0, 1.1)\n",
    "\n",
    "# Add values on top of bars\n",
    "for i, ax in enumerate(axes):\n",
    "    for idx, val in enumerate([mae_scores, rmse_scores, r2_scores][i]):\n",
    "        ax.text(idx, val + 0.02, f'{val:.3f}', ha='center', fontsize=10)\n",
    "\n",
    "plt.suptitle(\"🔎 Model Performance Comparison: Delay Prediction\", fontsize=16)\n",
    "plt.tight_layout()\n",
    "plt.show()\n"
   ]
  }
 ],
 "metadata": {
  "kernelspec": {
   "display_name": "learn-env",
   "language": "python",
   "name": "python3"
  },
  "language_info": {
   "codemirror_mode": {
    "name": "ipython",
    "version": 3
   },
   "file_extension": ".py",
   "mimetype": "text/x-python",
   "name": "python",
   "nbconvert_exporter": "python",
   "pygments_lexer": "ipython3",
   "version": "3.8.5"
  }
 },
 "nbformat": 4,
 "nbformat_minor": 5
}
